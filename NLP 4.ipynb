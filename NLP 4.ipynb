{
 "cells": [
  {
   "cell_type": "code",
   "execution_count": null,
   "id": "0be8faed",
   "metadata": {},
   "outputs": [],
   "source": [
    "Sequence models are the machine learning models that input or output sequences of data. Sequential data includes text streams, audio clips, video clips, time-series data and etc. Recurrent Neural Networks (RNNs) is a popular algorithm used in sequence models. Applications of Sequence Models 1. Speech recognition:In speech recognition, an audio clip is given as an input and then the model has to generate its text transcript"
   ]
  },
  {
   "cell_type": "code",
   "execution_count": null,
   "id": "ea08a527",
   "metadata": {},
   "outputs": [],
   "source": [
    "The Encoder-Decoder architecture is a way of organizing recurrent neural networks for sequence prediction problems that have a variable number of inputs, outputs, or both inputs and outputs. The architecture involves two components: an encoder and a decoder."
   ]
  },
  {
   "cell_type": "code",
   "execution_count": null,
   "id": "13c6cd76",
   "metadata": {},
   "outputs": [],
   "source": [
    "We developed a combined CNN and recurrent neural network (RNN) that not only extracts the spatial features in a fundus image but also the temporal features embedded in a fundus video (i.e., sequential images). A total of 1810 fundus images and 295 fundus videos were used to train a CNN and a combined CNN and Long Short-Term Memory RN"
   ]
  },
  {
   "cell_type": "code",
   "execution_count": null,
   "id": "18bb26ec",
   "metadata": {},
   "outputs": [],
   "source": [
    "RNNs are neural networks that accept their own outputs as inputs. So as to not reinvent the wheel, here are a few blog posts to introduce you to RNNs: In this post, we’ll be building a no frills RNN that accepts a binary sequence X and uses it to predict a binary sequence Y"
   ]
  },
  {
   "cell_type": "code",
   "execution_count": null,
   "id": "0b0bd5a7",
   "metadata": {},
   "outputs": [],
   "source": [
    "Padding will then be performed on all sequences to achieve the desired length, as follows. Running the example pads each sequence to the desired length of 5 timesteps, even though the maximum length of an observed sequence is only 4 timesteps. The length of sequences can also be trimmed to a desired length."
   ]
  },
  {
   "cell_type": "code",
   "execution_count": null,
   "id": "ed3fd3f5",
   "metadata": {},
   "outputs": [],
   "source": [
    "With the latest commit and release of Keras (v2.0.9) it’s now extremely easy to train deep neural networks using multiple GPUs. In fact, it’s as easy as a single function call! To learn more about training deep neural networks using Keras, Python, and multiple GPUs, just keep reading."
   ]
  },
  {
   "cell_type": "code",
   "execution_count": null,
   "id": "8c15555d",
   "metadata": {},
   "outputs": [],
   "source": []
  }
 ],
 "metadata": {
  "kernelspec": {
   "display_name": "Python 3",
   "language": "python",
   "name": "python3"
  },
  "language_info": {
   "codemirror_mode": {
    "name": "ipython",
    "version": 3
   },
   "file_extension": ".py",
   "mimetype": "text/x-python",
   "name": "python",
   "nbconvert_exporter": "python",
   "pygments_lexer": "ipython3",
   "version": "3.8.8"
  }
 },
 "nbformat": 4,
 "nbformat_minor": 5
}
